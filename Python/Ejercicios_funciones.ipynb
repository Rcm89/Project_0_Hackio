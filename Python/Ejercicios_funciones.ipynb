{
 "cells": [
  {
   "cell_type": "markdown",
   "metadata": {},
   "source": [
    "\n",
    "<div style=\"text-align: center;\">\n",
    "  <img src=\"https://github.com/Hack-io-Data/Imagenes/blob/main/01-LogosHackio/logo_celeste@4x.png?raw=true\" alt=\"esquema\" />\n",
    "</div>"
   ]
  },
  {
   "cell_type": "markdown",
   "metadata": {},
   "source": [
    "#### 1. Escribe una función sin parámetros que imprima el siguiente mensaje \"¡Hola! Bienvenido.\"\n"
   ]
  },
  {
   "cell_type": "code",
   "execution_count": 1,
   "metadata": {},
   "outputs": [
    {
     "name": "stdout",
     "output_type": "stream",
     "text": [
      "Hola, mundo!\n"
     ]
    }
   ],
   "source": [
    "def bienvenida():\n",
    "    print(\"¡Hola! Bienvenido!\")\n",
    "\n",
    "# Llamamos a la función\n",
    "bienvenida()"
   ]
  },
  {
   "cell_type": "markdown",
   "metadata": {},
   "source": [
    "#### 2. Escribe una función que reciba dos parámetros y devuelva la suma de ambos.\n"
   ]
  },
  {
   "cell_type": "code",
   "execution_count": 3,
   "metadata": {},
   "outputs": [],
   "source": [
    "def suma(num1, num2):\n",
    "    return num1 + num2"
   ]
  },
  {
   "cell_type": "markdown",
   "metadata": {},
   "source": [
    "#### 3. Escribe una función que reciba un número y devuelva True si es par, False si no lo es."
   ]
  },
  {
   "cell_type": "code",
   "execution_count": null,
   "metadata": {},
   "outputs": [],
   "source": [
    "def es_par(num):\n",
    "    if num % 2 == 0:\n",
    "        return True\n",
    "    else:\n",
    "        return False"
   ]
  },
  {
   "cell_type": "markdown",
   "metadata": {},
   "source": [
    "#### 4. Escribe un función que devuelva un saludo personalizado a una persona dado su nombre. \n"
   ]
  },
  {
   "cell_type": "code",
   "execution_count": 7,
   "metadata": {},
   "outputs": [
    {
     "name": "stdout",
     "output_type": "stream",
     "text": [
      "Hola, Rafael, encantado de saludarte\n"
     ]
    }
   ],
   "source": [
    "def saludar(nombre):\n",
    "    return f\"Hola, {nombre}, encantado de saludarte\"\n",
    "#Ejemplo de ejecución\n",
    "print(saludar('Rafael'))"
   ]
  },
  {
   "cell_type": "markdown",
   "metadata": {},
   "source": [
    "#### 5. Escribe una función que sume todos los números que reciba como argumento. La función debe recibir una cantidad variable de argumentos y devolver la suma de todos ellos."
   ]
  },
  {
   "cell_type": "code",
   "execution_count": 10,
   "metadata": {},
   "outputs": [
    {
     "name": "stdout",
     "output_type": "stream",
     "text": [
      "15\n"
     ]
    }
   ],
   "source": [
    "def suma_numeros(*args):\n",
    "    return sum(args)\n",
    "#Ejemplo de ejecución\n",
    "resultado = suma_numeros(5, 7, 3)\n",
    "print(resultado)"
   ]
  },
  {
   "cell_type": "markdown",
   "metadata": {},
   "source": [
    "#### 6. Escribe una función que cuente las letras de una palabra y devuelva un diccionario con la cantidad de veces que se repite cada letra \n"
   ]
  },
  {
   "cell_type": "code",
   "execution_count": 13,
   "metadata": {},
   "outputs": [
    {
     "name": "stdout",
     "output_type": "stream",
     "text": [
      "{'e': 4, 's': 2, 't': 2, 'r': 1, 'n': 1, 'o': 4, 'c': 1, 'l': 1, 'i': 2, 'd': 2, 'm': 1, 'a': 1}\n"
     ]
    }
   ],
   "source": [
    "def contar_letras(palabra):\n",
    "    contador = {} #Creamos un diccionario que irá almacenando la cantidad de veces que aparece cada letra\n",
    "    for letra in palabra:\n",
    "        #Si la letra ya está en el diccionario le suma 1 a su valor, si no está la incluye con el valor 1\n",
    "        if letra in contador:\n",
    "            contador[letra] += 1\n",
    "        else:\n",
    "            contador[letra] = 1\n",
    "    return contador\n",
    "#Ejemplo de ejecución\n",
    "letras_contadas = contar_letras(\"esternocleidomastoideo\")\n",
    "print(letras_contadas)"
   ]
  },
  {
   "cell_type": "markdown",
   "metadata": {},
   "source": [
    "#### 7. Escribe un función recursiva para calcular el factorial de un número entero no negativo."
   ]
  },
  {
   "cell_type": "code",
   "execution_count": 19,
   "metadata": {},
   "outputs": [
    {
     "name": "stdout",
     "output_type": "stream",
     "text": [
      "720\n"
     ]
    }
   ],
   "source": [
    "def factorial(num):\n",
    "    if num==1 or num==0: #Caso base: si num es 0 o 1, devuelve\n",
    "        return 1\n",
    "    else: #Caso recursivo: Si num es mayor que 1 la función devuelve num multiplicado por el factorial de num -1.\n",
    "        return num * factorial(num - 1)\n",
    "#Ejemplo de ejecución\n",
    "print(factorial(6))"
   ]
  },
  {
   "cell_type": "markdown",
   "metadata": {},
   "source": [
    "#### 8. Escribe una función que tome dos parámetros: `figura` (una cadena que puede ser `\"rectangulo\"`, `\"circulo\"` o `\"triangulo\"`) y `datos` (una tupla con los datos necesarios para calcular el área de la figura). "
   ]
  },
  {
   "cell_type": "code",
   "execution_count": 25,
   "metadata": {},
   "outputs": [
    {
     "name": "stdout",
     "output_type": "stream",
     "text": [
      "153.93804002589985\n"
     ]
    }
   ],
   "source": [
    "import math\n",
    "\n",
    "def calculo_area(figura, datos):\n",
    "    if figura == \"rectangulo\":\n",
    "        base, altura = datos\n",
    "        return base * altura\n",
    "    elif figura == \"circulo\":\n",
    "        radio, = datos\n",
    "        return math.pi * radio**2\n",
    "    elif figura == \"triangulo\":\n",
    "        base, altura = datos\n",
    "        return (base * altura) / 2\n",
    "    else:\n",
    "        return \"Figura no reconocida. La figura debe ser un rectángulo un círculo o un triangulo\"\n",
    "area_circulo = calculo_area(\"circulo\", (7,))\n",
    "print(area_circulo)"
   ]
  },
  {
   "cell_type": "markdown",
   "metadata": {},
   "source": [
    "#### 9. Escribe una función que tome una lista de números como parámetro y devuelva el número más grande de la lista. No utilices la función `max()` de Python en tu solución."
   ]
  },
  {
   "cell_type": "code",
   "execution_count": 37,
   "metadata": {},
   "outputs": [
    {
     "name": "stdout",
     "output_type": "stream",
     "text": [
      "8\n"
     ]
    }
   ],
   "source": [
    "def maximo(lista):\n",
    "    if lista == []:  # Verifica si la lista está vacía\n",
    "        return \"No se pudo encontrar el máximo porque la lista está vacía\"\n",
    "    max = lista[0]  # Asigna el primer elemento como el maximo inicialmente\n",
    "    for numero in lista:\n",
    "        if numero > max:\n",
    "            max = numero\n",
    "    return max\n",
    "#Ejemplo de Ejecucion\n",
    "numeros = [2, -1, 8, 0 , 4]\n",
    "print(maximo(numeros))"
   ]
  },
  {
   "cell_type": "markdown",
   "metadata": {},
   "source": [
    "#### 10. Escribe una función que tome una cadena como parámetro un texto y devuelva `True` si la cadena es un palíndromo (se lee igual de izquierda a derecha que de derecha a izquierda), y `False` en caso contrario. Ignora los espacios y considera mayúsculas y minúsculas de manera insensible.\n"
   ]
  },
  {
   "cell_type": "code",
   "execution_count": 62,
   "metadata": {},
   "outputs": [
    {
     "name": "stdout",
     "output_type": "stream",
     "text": [
      "True\n"
     ]
    }
   ],
   "source": [
    "def es_palindromo(cadena):\n",
    "    cadena = cadena.lower() # Convertimos el texto a minúsculas\n",
    "    cadena = cadena.replace(\" \", \"\") #Quitamos los espacios\n",
    "    cadena_reversa = \"\".join(reversed(cadena)) #Obtener el reverso del texto (como si lo leyeramos de derecha a izquierda) usando reversed() y ''.join()\n",
    "    return cadena == cadena_reversa\n",
    "#Ejemplo de Ejecución\n",
    "texto = \"Oír a Darío\"\n",
    "print(es_palindromo(texto))"
   ]
  },
  {
   "cell_type": "markdown",
   "metadata": {},
   "source": [
    "#### 11. Escribe una función que tome una cadena como parámetro y devuelva dos valores: la cantidad de vocales y la cantidad de consonantes presentes en la cadena. Ignora los espacios y considera mayúsculas y minúsculas de manera insensible.\n"
   ]
  },
  {
   "cell_type": "code",
   "execution_count": 64,
   "metadata": {},
   "outputs": [
    {
     "name": "stdout",
     "output_type": "stream",
     "text": [
      "Vocales: 18, Consonantes: 19\n"
     ]
    }
   ],
   "source": [
    "def cantidad_vocales_consonantes(cadena):\n",
    "    # Definimos las vocales y consonantes\n",
    "    vocales = \"aeiouáéíóúü\"\n",
    "    consonantes = \"bcdfghjklmnpqrstvwxyz\"\n",
    "    # Convertimos la cadena a minúsculas\n",
    "    cadena = cadena.lower() \n",
    "    # Contamos las vocales y consonantes utilizando count() en un bucle for\n",
    "    contador_vocales = sum(cadena.count(vocal) for vocal in vocales)\n",
    "    contador_consonantes = sum(cadena.count(consonante) for consonante in consonantes)\n",
    "    return contador_vocales, contador_consonantes\n",
    "\n",
    "#Ejemplo de Ejecución\n",
    "cadena = \"La eubolia y la eufonía son grandes virtudes\"\n",
    "vocales, consonantes = cantidad_vocales_consonantes(cadena)\n",
    "print(f\"Vocales: {vocales}, Consonantes: {consonantes}\")"
   ]
  }
 ],
 "metadata": {
  "kernelspec": {
   "display_name": "hackio",
   "language": "python",
   "name": "python3"
  },
  "language_info": {
   "codemirror_mode": {
    "name": "ipython",
    "version": 3
   },
   "file_extension": ".py",
   "mimetype": "text/x-python",
   "name": "python",
   "nbconvert_exporter": "python",
   "pygments_lexer": "ipython3",
   "version": "3.11.8"
  }
 },
 "nbformat": 4,
 "nbformat_minor": 2
}
