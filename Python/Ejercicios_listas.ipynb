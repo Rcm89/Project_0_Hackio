{
 "cells": [
  {
   "cell_type": "markdown",
   "metadata": {},
   "source": [
    "<div style=\"text-align: center;\">\n",
    "  <img src=\"https://github.com/Hack-io-Data/Imagenes/blob/main/01-LogosHackio/logo_celeste@4x.png?raw=true\" alt=\"logo hack(io)\" />\n",
    "</div>"
   ]
  },
  {
   "cell_type": "markdown",
   "metadata": {},
   "source": [
    "\n",
    "#### 1. Declara una lista llamada `numeros` y asigna a ella los valores 15, 20, 60, 23, 40, 74, 48, 19, 54, 67, 93.\n"
   ]
  },
  {
   "cell_type": "code",
   "execution_count": 91,
   "metadata": {},
   "outputs": [],
   "source": [
    "numeros = [15, 20, 60, 23, 40, 74, 48, 19, 54, 67, 93]\n"
   ]
  },
  {
   "cell_type": "markdown",
   "metadata": {},
   "source": [
    "#### 2. Declara una lista llamada `letras` y asigna a ella los valores 'G', 'B', 'S', 's', 'D', 'z', 'd', 'Z', 'A', 'O', 'D'.\n"
   ]
  },
  {
   "cell_type": "code",
   "execution_count": 92,
   "metadata": {},
   "outputs": [],
   "source": [
    "letras = ['G', 'B', 'S', 's', 'D', 'z', 'd','Z','A','O','D']"
   ]
  },
  {
   "cell_type": "markdown",
   "metadata": {},
   "source": [
    "#### 3. Imprime en pantalla el valor de cada lista utilizando la función print()."
   ]
  },
  {
   "cell_type": "code",
   "execution_count": 93,
   "metadata": {},
   "outputs": [
    {
     "name": "stdout",
     "output_type": "stream",
     "text": [
      "[15, 20, 60, 23, 40, 74, 48, 19, 54, 67, 93]\n",
      "['G', 'B', 'S', 's', 'D', 'z', 'd', 'Z', 'A', 'O', 'D']\n"
     ]
    }
   ],
   "source": [
    "print(numeros)\n",
    "print(letras)"
   ]
  },
  {
   "cell_type": "markdown",
   "metadata": {},
   "source": [
    "#### 4. Crea dos variables `longitud_numeros` y `longitud_letras` que correspondan con las longitudes de las listas creadas previamente. "
   ]
  },
  {
   "cell_type": "code",
   "execution_count": 94,
   "metadata": {},
   "outputs": [
    {
     "name": "stdout",
     "output_type": "stream",
     "text": [
      "11\n",
      "11\n"
     ]
    }
   ],
   "source": [
    "longitud_numeros = len(numeros)\n",
    "longitud_letras = len(letras)\n",
    "print(longitud_numeros)\n",
    "print(longitud_letras)"
   ]
  },
  {
   "cell_type": "markdown",
   "metadata": {},
   "source": [
    "#### 5. ¿Cuál es el máximo y mínimo de la lista  `numeros`?"
   ]
  },
  {
   "cell_type": "code",
   "execution_count": 95,
   "metadata": {},
   "outputs": [
    {
     "name": "stdout",
     "output_type": "stream",
     "text": [
      "El máximo de la lista de números es: 93\n",
      "El mínimo de la lista de números es: 15\n"
     ]
    }
   ],
   "source": [
    "maximo_numeros = max(numeros)\n",
    "minimo_numeros = min(numeros)\n",
    "print(\"El máximo de la lista de números es:\", maximo_numeros)\n",
    "print(\"El mínimo de la lista de números es:\", minimo_numeros)"
   ]
  },
  {
   "cell_type": "markdown",
   "metadata": {},
   "source": [
    "#### 6. ¿Cuál es el máximo y mínimo de la lista  `numeros`? "
   ]
  },
  {
   "cell_type": "code",
   "execution_count": 96,
   "metadata": {},
   "outputs": [
    {
     "name": "stdout",
     "output_type": "stream",
     "text": [
      "El máximo de la lista de números es: 93\n",
      "El mínimo de la lista de números es: 15\n"
     ]
    }
   ],
   "source": [
    "maximo_numeros = max(numeros)\n",
    "minimo_numeros = min(numeros)\n",
    "print(\"El máximo de la lista de números es:\", maximo_numeros)\n",
    "print(\"El mínimo de la lista de números es:\", minimo_numeros)"
   ]
  },
  {
   "cell_type": "markdown",
   "metadata": {},
   "source": [
    "#### 7. Selecciona los primeros 5 elementos de la lista `numeros`."
   ]
  },
  {
   "cell_type": "code",
   "execution_count": 97,
   "metadata": {},
   "outputs": [
    {
     "name": "stdout",
     "output_type": "stream",
     "text": [
      "[15, 20, 60, 23, 40]\n"
     ]
    }
   ],
   "source": [
    "primeros_cinco_numeros = numeros[:5]\n",
    "print(primeros_cinco_numeros)"
   ]
  },
  {
   "cell_type": "markdown",
   "metadata": {},
   "source": [
    "#### 8. Selecciona los ultimos 3 elementos de la lista `letras`."
   ]
  },
  {
   "cell_type": "code",
   "execution_count": 98,
   "metadata": {},
   "outputs": [
    {
     "name": "stdout",
     "output_type": "stream",
     "text": [
      "['A', 'O', 'D']\n"
     ]
    }
   ],
   "source": [
    "ultimas_tres_letras = letras[-3:]\n",
    "print(ultimas_tres_letras)"
   ]
  },
  {
   "cell_type": "markdown",
   "metadata": {},
   "source": [
    "#### 9. Selecciona los elementos que estaán en la lista `letras` que están en posiciones pares (posiciones de Python). "
   ]
  },
  {
   "cell_type": "code",
   "execution_count": 99,
   "metadata": {},
   "outputs": [
    {
     "name": "stdout",
     "output_type": "stream",
     "text": [
      "Seleccionamos todos los elementos de la lista que están en posiciones pares (de Python): [::2] = ['G', 'S', 'D', 'd', 'A', 'D']\n"
     ]
    }
   ],
   "source": [
    "letras_pares = letras[::2]\n",
    "print('Seleccionamos todos los elementos de la lista que están en posiciones pares (de Python): [::2] =', letras_pares)"
   ]
  },
  {
   "cell_type": "markdown",
   "metadata": {},
   "source": [
    "#### 10. Selecciona del tercer al décimo elemento de la lista `numeros` seleccionalos de 2 en 2."
   ]
  },
  {
   "cell_type": "code",
   "execution_count": 100,
   "metadata": {},
   "outputs": [
    {
     "name": "stdout",
     "output_type": "stream",
     "text": [
      "Seleccionamos del tercer al décimo elemento de dos en dos [2:10:2] = ['S', 'D', 'd', 'A']\n"
     ]
    }
   ],
   "source": [
    "print('Seleccionamos del tercer al décimo elemento de dos en dos [2:10:2] =', letras[2:10:2])"
   ]
  },
  {
   "cell_type": "markdown",
   "metadata": {},
   "source": [
    "#### 11. Ordena la lista  `numeros` de menor a mayor sobreescribiendo el valor de la variable original. "
   ]
  },
  {
   "cell_type": "code",
   "execution_count": 101,
   "metadata": {},
   "outputs": [
    {
     "name": "stdout",
     "output_type": "stream",
     "text": [
      "[15, 19, 20, 23, 40, 48, 54, 60, 67, 74, 93]\n"
     ]
    }
   ],
   "source": [
    "mumeros = numeros.sort()\n",
    "print(numeros)"
   ]
  },
  {
   "cell_type": "markdown",
   "metadata": {},
   "source": [
    "#### 12. ¿Cuántas veces aparece la letra 'd' en la lista de `letras`?"
   ]
  },
  {
   "cell_type": "code",
   "execution_count": 102,
   "metadata": {},
   "outputs": [
    {
     "name": "stdout",
     "output_type": "stream",
     "text": [
      "La d aparece 1 veces\n"
     ]
    }
   ],
   "source": [
    "print(\"La d aparece\", letras.count(\"d\"), \"veces\")"
   ]
  },
  {
   "cell_type": "markdown",
   "metadata": {},
   "source": [
    "#### 13. Elimina el éltimo elemento de la lista de `numeros`."
   ]
  },
  {
   "cell_type": "code",
   "execution_count": 103,
   "metadata": {},
   "outputs": [
    {
     "name": "stdout",
     "output_type": "stream",
     "text": [
      "[15, 19, 20, 23, 40, 48, 54, 60, 67, 74]\n"
     ]
    }
   ],
   "source": [
    "numeros.pop()\n",
    "print(numeros)"
   ]
  },
  {
   "cell_type": "markdown",
   "metadata": {},
   "source": [
    "#### 14. Agrega un 2 al final de la lista de `numeros`."
   ]
  },
  {
   "cell_type": "code",
   "execution_count": 104,
   "metadata": {},
   "outputs": [
    {
     "name": "stdout",
     "output_type": "stream",
     "text": [
      "[15, 19, 20, 23, 40, 48, 54, 60, 67, 74, 2]\n"
     ]
    }
   ],
   "source": [
    "numeros.append(2)\n",
    "print(numeros)"
   ]
  },
  {
   "cell_type": "markdown",
   "metadata": {},
   "source": [
    "#### 15. Inserta una T en la posicion 3 de la lista de `letras`. "
   ]
  },
  {
   "cell_type": "code",
   "execution_count": 105,
   "metadata": {},
   "outputs": [
    {
     "name": "stdout",
     "output_type": "stream",
     "text": [
      "['G', 'B', 'T', 'S', 's', 'D', 'z', 'd', 'Z', 'A', 'O', 'D']\n"
     ]
    }
   ],
   "source": [
    "letras.insert(2,'T')\n",
    "print(letras)"
   ]
  },
  {
   "cell_type": "markdown",
   "metadata": {},
   "source": [
    "#### 16. Elimina el primer elemento cuyo valor es \"D\" de la lista de `letras`. "
   ]
  },
  {
   "cell_type": "code",
   "execution_count": 106,
   "metadata": {},
   "outputs": [
    {
     "name": "stdout",
     "output_type": "stream",
     "text": [
      "['G', 'B', 'T', 'S', 's', 'z', 'd', 'Z', 'A', 'O', 'D']\n"
     ]
    }
   ],
   "source": [
    "letras.remove('D')\n",
    "print(letras)"
   ]
  },
  {
   "cell_type": "markdown",
   "metadata": {},
   "source": [
    "#### 17. Invierte el orden de la lista de `letras`. "
   ]
  },
  {
   "cell_type": "code",
   "execution_count": 108,
   "metadata": {},
   "outputs": [
    {
     "name": "stdout",
     "output_type": "stream",
     "text": [
      "['D', 'O', 'A', 'Z', 'd', 'z', 's', 'S', 'T', 'B', 'G']\n"
     ]
    }
   ],
   "source": [
    "letras.reverse()\n",
    "print(letras)"
   ]
  },
  {
   "cell_type": "markdown",
   "metadata": {},
   "source": [
    "#### 18. Genera una lista vacía y añade la lista `numeros` y `letras` a la lista vacía. "
   ]
  },
  {
   "cell_type": "code",
   "execution_count": 110,
   "metadata": {},
   "outputs": [
    {
     "name": "stdout",
     "output_type": "stream",
     "text": [
      "[15, 19, 20, 23, 40, 48, 54, 60, 67, 74, 2, 'D', 'O', 'A', 'Z', 'd', 'z', 's', 'S', 'T', 'B', 'G']\n"
     ]
    }
   ],
   "source": [
    "nueva_lista = []\n",
    "nueva_lista.extend(numeros)\n",
    "nueva_lista.extend(letras)\n",
    "print(nueva_lista)"
   ]
  },
  {
   "cell_type": "code",
   "execution_count": null,
   "metadata": {},
   "outputs": [],
   "source": []
  }
 ],
 "metadata": {
  "kernelspec": {
   "display_name": "hackio",
   "language": "python",
   "name": "python3"
  },
  "language_info": {
   "codemirror_mode": {
    "name": "ipython",
    "version": 3
   },
   "file_extension": ".py",
   "mimetype": "text/x-python",
   "name": "python",
   "nbconvert_exporter": "python",
   "pygments_lexer": "ipython3",
   "version": "3.12.4"
  }
 },
 "nbformat": 4,
 "nbformat_minor": 2
}
