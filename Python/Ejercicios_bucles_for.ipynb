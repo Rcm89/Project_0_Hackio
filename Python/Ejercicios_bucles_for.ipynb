{
 "cells": [
  {
   "cell_type": "markdown",
   "metadata": {},
   "source": [
    "<div style=\"text-align: center;\">\n",
    "  <img src=\"https://github.com/Hack-io-Data/Imagenes/blob/main/01-LogosHackio/logo_celeste@4x.png?raw=true\" alt=\"logo hack(io)\" />\n",
    "</div>"
   ]
  },
  {
   "cell_type": "markdown",
   "metadata": {},
   "source": [
    "####  1. Genera una lista de números del 0 al 4 y luego imprime cada número en la lista usando un `bucle for`. "
   ]
  },
  {
   "cell_type": "code",
   "execution_count": 1,
   "metadata": {},
   "outputs": [
    {
     "name": "stdout",
     "output_type": "stream",
     "text": [
      "0\n",
      "1\n",
      "2\n",
      "3\n",
      "4\n"
     ]
    }
   ],
   "source": [
    "lista_numeros = [0, 1, 2, 3, 4]\n",
    "for numero in lista_numeros:\n",
    "    print(numero)"
   ]
  },
  {
   "cell_type": "markdown",
   "metadata": {},
   "source": [
    "#### 2. Itera sobre una lista de frutas y muestra cada fruta en mayúsculas. \n"
   ]
  },
  {
   "cell_type": "code",
   "execution_count": 9,
   "metadata": {},
   "outputs": [
    {
     "name": "stdout",
     "output_type": "stream",
     "text": [
      "['PLATANO', 'PERA', 'MANZANA', 'NARANJA', 'MELÓN', 'SANDÍA', 'MELOCOTÓN']\n"
     ]
    }
   ],
   "source": [
    "lista_frutas = [\"platano\", \"pera\", \"manzana\", \"naranja\", \"melón\", \"sandía\", \"melocotón\"]\n",
    "for indice, fruta in enumerate(lista_frutas, start=0):\n",
    "    fruta = fruta.upper()\n",
    "    lista_frutas[indice]=fruta\n",
    "print(lista_frutas)"
   ]
  },
  {
   "cell_type": "markdown",
   "metadata": {},
   "source": [
    "####  3. Genera un bucle while que imprima los números del 0 al 4. \n"
   ]
  },
  {
   "cell_type": "code",
   "execution_count": 10,
   "metadata": {},
   "outputs": [
    {
     "name": "stdout",
     "output_type": "stream",
     "text": [
      "0\n",
      "1\n",
      "2\n",
      "3\n",
      "4\n"
     ]
    }
   ],
   "source": [
    "numero=0\n",
    "while numero <= 4:\n",
    "    print(numero)\n",
    "    numero += 1"
   ]
  },
  {
   "cell_type": "markdown",
   "metadata": {},
   "source": [
    "#### 4. Genera un bucle del 0 al 9, pero que se detenga en el 5.\n"
   ]
  },
  {
   "cell_type": "code",
   "execution_count": 13,
   "metadata": {},
   "outputs": [
    {
     "name": "stdout",
     "output_type": "stream",
     "text": [
      "0\n",
      "1\n",
      "2\n",
      "3\n",
      "4\n",
      "5\n"
     ]
    }
   ],
   "source": [
    "numero=0\n",
    "while numero <= 9:\n",
    "    print(numero)\n",
    "    if numero == 5:\n",
    "        break\n",
    "    else:\n",
    "        numero += 1"
   ]
  },
  {
   "cell_type": "markdown",
   "metadata": {},
   "source": [
    "#### 5. Recorre los números del 0 al 9 e imprime solo los números impares."
   ]
  },
  {
   "cell_type": "code",
   "execution_count": 14,
   "metadata": {},
   "outputs": [
    {
     "name": "stdout",
     "output_type": "stream",
     "text": [
      "1\n",
      "3\n",
      "5\n",
      "7\n",
      "9\n"
     ]
    }
   ],
   "source": [
    "numero=0\n",
    "while numero <= 9:\n",
    "    if numero %2 != 0:\n",
    "        print(numero)\n",
    "    numero += 1"
   ]
  },
  {
   "cell_type": "markdown",
   "metadata": {},
   "source": [
    "#### 6. Dada la lista `[10, 20, 30, 40, 50]`, calcula la suma de todos los elementos usando un bucle `for`."
   ]
  },
  {
   "cell_type": "code",
   "execution_count": 15,
   "metadata": {},
   "outputs": [
    {
     "name": "stdout",
     "output_type": "stream",
     "text": [
      "La suma de todos los elementos de la lista es 150\n"
     ]
    }
   ],
   "source": [
    "numeros = [10, 20, 30, 40, 50]\n",
    "suma=0\n",
    "for elemento in numeros:\n",
    "    suma += elemento\n",
    "print(\"La suma de todos los elementos de la lista es\", suma)"
   ]
  },
  {
   "cell_type": "markdown",
   "metadata": {},
   "source": [
    "#### 7. Dada la cadena `\"Hola mundo\"`, cuenta cuántas veces aparecen las vocales (`a`, `e`, `i`, `o`, `u`) usando un bucle `for`.\n"
   ]
  },
  {
   "cell_type": "code",
   "execution_count": 16,
   "metadata": {},
   "outputs": [
    {
     "name": "stdout",
     "output_type": "stream",
     "text": [
      "En \"Hola Mundo\", aparece la vocal a 1 veces\n",
      "En \"Hola Mundo\", aparece la vocal e 0 veces\n",
      "En \"Hola Mundo\", aparece la vocal i 0 veces\n",
      "En \"Hola Mundo\", aparece la vocal o 2 veces\n",
      "En \"Hola Mundo\", aparece la vocal u 1 veces\n"
     ]
    }
   ],
   "source": [
    "cadena = \"Hola mundo\"\n",
    "vocales = [\"a\", \"e\", \"i\", \"o\", \"u\"]\n",
    "for elemento in vocales:\n",
    "    print('En \"Hola Mundo\", aparece la vocal', elemento, cadena.count(elemento), 'veces')"
   ]
  },
  {
   "cell_type": "markdown",
   "metadata": {},
   "source": [
    "#### 8. Dada la cadena `\"Python\"`, usa un bucle `for` para imprimir los caracteres en orden inverso (`n`, `o`, `h`, `t`, `y`, `P`).\n"
   ]
  },
  {
   "cell_type": "code",
   "execution_count": 1,
   "metadata": {},
   "outputs": [
    {
     "name": "stdout",
     "output_type": "stream",
     "text": [
      "n\n",
      "o\n",
      "h\n",
      "t\n",
      "y\n",
      "P\n"
     ]
    }
   ],
   "source": [
    "cadena = \"Python\"\n",
    "for letra in reversed(cadena):\n",
    "    print(letra)"
   ]
  },
  {
   "cell_type": "markdown",
   "metadata": {},
   "source": [
    "#### 9. Dada la lista `[1, 2, 3, 4, 5]`, multiplica todos sus elementos usando un bucle `for` y almacena los resultados en una lista nueva. \n"
   ]
  },
  {
   "cell_type": "code",
   "execution_count": 29,
   "metadata": {},
   "outputs": [
    {
     "name": "stdout",
     "output_type": "stream",
     "text": [
      "[2, 4, 6, 8, 10]\n"
     ]
    }
   ],
   "source": [
    "numeros = [1, 2, 3, 4, 5]\n",
    "producto = []\n",
    "for elemento in numeros:\n",
    "    producto.append(elemento * 2)\n",
    "print(producto)"
   ]
  },
  {
   "cell_type": "markdown",
   "metadata": {},
   "source": [
    "#### 10. Dada la lista `[1, 2, 3, 4, 5, 6, 7, 8, 9, 10]`, utiliza un bucle `for` para contar cuántos números son pares y cuántos son impares."
   ]
  },
  {
   "cell_type": "code",
   "execution_count": 33,
   "metadata": {},
   "outputs": [
    {
     "name": "stdout",
     "output_type": "stream",
     "text": [
      "En la lista hay 5 numeros pares y 5 numeros impares\n"
     ]
    }
   ],
   "source": [
    "lista = [1, 2, 3, 4, 5, 6, 7, 8, 9, 10]\n",
    "pares=0\n",
    "impares=0\n",
    "for numero in lista:\n",
    "    if numero %2 == 0:\n",
    "        pares += 1\n",
    "    else:\n",
    "        impares += 1\n",
    "    \n",
    "print (\"En la lista hay\", pares, \"numeros pares y\", impares, \"numeros impares\")"
   ]
  },
  {
   "cell_type": "markdown",
   "metadata": {},
   "source": [
    "#### 11. Escribe un programa que solicite al usuario un número entero positivo (`n`) y calcule la suma de todos los números primos menores o iguales a `n`. Utiliza un bucle `for` para iterar sobre cada número y verifica si es primo."
   ]
  },
  {
   "cell_type": "code",
   "execution_count": 2,
   "metadata": {},
   "outputs": [
    {
     "name": "stdout",
     "output_type": "stream",
     "text": [
      "La suma de los primos menores o iguales que 8 es: 17\n"
     ]
    }
   ],
   "source": [
    "n = int(input(\"Introduzca un numero entero positivo:\"))\n",
    "suma = 0\n",
    "for numero in range(2, n + 1): #iteramos desde el 2, porque 1 no es primo\n",
    "    # Verificamos si num es primo\n",
    "    es_primo = True\n",
    "    for i in range(2, int(numero ** 0.5) + 1):\n",
    "        if numero % i == 0:\n",
    "            es_primo = False\n",
    "            break\n",
    "    # Si es primo, lo añadimos a la suma\n",
    "    if es_primo:\n",
    "        suma += numero\n",
    "print(\"La suma de los primos menores o iguales que\", n, \"es:\", suma)\n"
   ]
  },
  {
   "cell_type": "markdown",
   "metadata": {},
   "source": [
    "#### 12. Escribe un programa que solicite al usuario un número entero positivo (`n`) y luego imprima un patrón de asteriscos como el siguiente ejemplo para `n = 5`:\n",
    "```\n",
    "*\n",
    "**\n",
    "***\n",
    "****\n",
    "*****\n",
    "```\n",
    "Utiliza un bucle `for` anidado para controlar la cantidad de asteriscos en cada línea."
   ]
  },
  {
   "cell_type": "code",
   "execution_count": 50,
   "metadata": {},
   "outputs": [
    {
     "name": "stdout",
     "output_type": "stream",
     "text": [
      "*\n",
      "**\n",
      "***\n",
      "****\n",
      "*****\n"
     ]
    }
   ],
   "source": [
    "n = int(input(\"Introduzca un numero entero positivo:\"))\n",
    "cadena=\"*\"\n",
    "i=1\n",
    "while i<=n:\n",
    "    print(cadena*i)\n",
    "    i += 1"
   ]
  },
  {
   "cell_type": "markdown",
   "metadata": {},
   "source": [
    "#### 13. Dado un texto, utiliza un bucle `for` para contar cuántas veces aparece cada palabra en el texto. Ignora mayúsculas/minúsculas y los signos de puntuación."
   ]
  },
  {
   "cell_type": "code",
   "execution_count": 59,
   "metadata": {},
   "outputs": [
    {
     "name": "stdout",
     "output_type": "stream",
     "text": [
      "La palabra hola aparece 2 veces.\n",
      "La palabra que aparece 1 veces.\n",
      "La palabra tal aparece 1 veces.\n",
      "La palabra estás aparece 1 veces.\n"
     ]
    }
   ],
   "source": [
    "texto = input(\"Introduce un texto: \")\n",
    "texto = texto.lower() # Convertimos el texto a minúsculas\n",
    "signos_puntuacion = \".,;:!?¿¡()[]{}\\\"'\" # Definimos los signos de puntuación a eliminar\n",
    "for signo in signos_puntuacion:\n",
    "    texto = texto.replace(signo, \"\")\n",
    "palabras = texto.split()\n",
    "# Inicializar un diccionario para contar las palabras\n",
    "contador_palabras = {} # Creamos un diccionario vacío para contar las palabras\n",
    "for palabra in palabras: #Contamos las apariciones de cada palabra\n",
    "    if palabra in contador_palabras:\n",
    "        contador_palabras[palabra] += 1\n",
    "    else:\n",
    "        contador_palabras[palabra] = 1\n",
    "for palabra, contador in contador_palabras.items():\n",
    "    print(\"La palabra\", palabra, \"aparece\", contador, \"veces.\")"
   ]
  },
  {
   "cell_type": "markdown",
   "metadata": {},
   "source": [
    "#### 14. Escribe un programa que solicite al usuario dos números enteros positivos (`inicio` y `fin`, donde `inicio <= fin`) y luego calcule la suma de los números pares y la suma de los números impares en ese rango. Utiliza un bucle `for` para iterar sobre cada número y una estructura `if-else` para clasificar y sumar los números pares e impares."
   ]
  },
  {
   "cell_type": "code",
   "execution_count": 60,
   "metadata": {},
   "outputs": [
    {
     "name": "stdout",
     "output_type": "stream",
     "text": [
      "La suma de los números pares entre 2 y 10 es: 30\n",
      "La suma de los números impares entre 2 y 10 es: 24\n"
     ]
    }
   ],
   "source": [
    "inicio = int(input(\"Introduce el número inicio (entero positivo):\"))\n",
    "fin = int(input(\"Introduce el número fin (entero positivo, que debe ser mayor o igual a inicio):\"))\n",
    "suma_pares = 0\n",
    "suma_impares = 0\n",
    "for numero in range(inicio, fin + 1): # Iteramos sobre cada número en el rango [inicio, fin]\n",
    "    if numero % 2 == 0:\n",
    "        suma_pares += numero  \n",
    "    else:\n",
    "        suma_impares += numero\n",
    "print(\"La suma de los números pares entre\", inicio, \"y\", fin, \"es:\", suma_pares)\n",
    "print(\"La suma de los números impares entre\", inicio, \"y\", fin, \"es:\", suma_impares)"
   ]
  },
  {
   "cell_type": "markdown",
   "metadata": {},
   "source": [
    "#### 15. Escribe un programa que solicite al usuario un número entero positivo (`n`) y luego identifique todos los números primos menores o iguales a `n`. Para cada número, imprime si es primo o no usando un bucle `for` y una estructura `if-else` para verificar la condición de primalidad."
   ]
  },
  {
   "cell_type": "code",
   "execution_count": 3,
   "metadata": {},
   "outputs": [
    {
     "name": "stdout",
     "output_type": "stream",
     "text": [
      "2 es primo\n",
      "3 es primo\n",
      "4 no es primo\n",
      "5 es primo\n",
      "6 no es primo\n",
      "7 es primo\n",
      "8 no es primo\n",
      "9 no es primo\n",
      "10 no es primo\n"
     ]
    }
   ],
   "source": [
    "n = int(input(\"Introduzca un numero entero positivo:\"))\n",
    "for numero in range(2, n + 1): # iteramos desde el 2, porque 1 no es primo\n",
    "    es_primo = True # Verificamos si num es primo\n",
    "    for i in range(2, int(numero ** 0.5) + 1):\n",
    "        if numero % i == 0:\n",
    "            es_primo = False\n",
    "            break\n",
    "    if es_primo: # Si es primo, lo añadimos a la suma\n",
    "        print(numero, \"es primo\")\n",
    "    else:\n",
    "        print(numero, \"no es primo\")"
   ]
  },
  {
   "cell_type": "markdown",
   "metadata": {},
   "source": [
    "#### 16.Dada una lista de precios `[100, 200, 300, 400, 500]`, aplica un descuento del 10% a todos los precios mayores a `250`. Imprime la lista actualizada de precios después de aplicar el descuento utilizando un bucle `for`. "
   ]
  },
  {
   "cell_type": "code",
   "execution_count": 5,
   "metadata": {},
   "outputs": [
    {
     "name": "stdout",
     "output_type": "stream",
     "text": [
      "[100, 200, 270.0, 360.0, 450.0]\n"
     ]
    }
   ],
   "source": [
    "precios = [100, 200, 300, 400, 500]\n",
    "porcentaje_descuento = 10\n",
    "for indice, valor in enumerate(precios, start=0):\n",
    "    if precios[indice] > 250:\n",
    "        valor = valor - (valor * porcentaje_descuento/100)\n",
    "        precios[indice]=valor\n",
    "print(precios)"
   ]
  },
  {
   "cell_type": "markdown",
   "metadata": {},
   "source": [
    "#### 17. Dada una lista de calificaciones de estudiantes `[85, 92, 78, 90, 88]`, clasifica a cada estudiante como \"Aprobado\" si la calificación es mayor o igual a `80` y como \"Reprobado\" si es menor a `80`. Imprime el nombre de cada estudiante junto con su estado utilizando un bucle `for` y una estructura `if-else`.\n"
   ]
  },
  {
   "cell_type": "code",
   "execution_count": 5,
   "metadata": {},
   "outputs": [
    {
     "name": "stdout",
     "output_type": "stream",
     "text": [
      "Estudiante1 Aprobado\n",
      "Estudiante2 Aprobado\n",
      "Estudiante3 Reprobado\n",
      "Estudiante4 Aprobado\n",
      "Estudiante5 Aprobado\n"
     ]
    }
   ],
   "source": [
    "calificaciones=[85, 92, 78, 90, 88]\n",
    "estudiantes=[\"Estudiante1\", \"Estudiante2\", \"Estudiante3\", \"Estudiante4\", \"Estudiante5\"]\n",
    "for estudiante, calificacion in zip(estudiantes, calificaciones): #Agrupamos calificaciones y estudiantes en una tupla y la recorremos con un for\n",
    "    if calificacion >=80: #Clasificacmos en aprobados y reprobados\n",
    "        print(estudiante, \"Aprobado\")\n",
    "    else:\n",
    "        print(estudiante, \"Reprobado\")"
   ]
  },
  {
   "cell_type": "markdown",
   "metadata": {},
   "source": [
    "\n",
    "#### 18. Escribe un programa que solicite al usuario dos números enteros positivos (`inicio`, `fin`) y otro número entero positivo (`divisor`). Encuentra el número más grande en el rango desde `inicio` hasta `fin` que sea divisible por `divisor`. Utiliza un bucle `for` y una estructura `if-else` para verificar y mantener el registro del número más grande divisible por el divisor dado.\n"
   ]
  },
  {
   "cell_type": "code",
   "execution_count": 6,
   "metadata": {},
   "outputs": [
    {
     "name": "stdout",
     "output_type": "stream",
     "text": [
      "El mayor numero divisible por 13 comprendido entre 1 y 1000 es: 988\n"
     ]
    }
   ],
   "source": [
    "inicio = int(input(\"Introduce el número inicio (entero positivo):\"))\n",
    "fin = int(input(\"Introduce el número fin (entero positivo, que debe ser mayor o igual a inicio):\"))\n",
    "divisor = int(input(\"Introduce otro número entero positivo:\"))\n",
    "numero_mayor = 0\n",
    "for numero in range(inicio, fin + 1): # Iteramos sobre cada número en el rango [inicio, fin]\n",
    "    if numero % divisor == 0: #Si el numero es divisible entre divisor asignamos su valor a numero_mayor\n",
    "        numero_mayor = numero  \n",
    "print(\"El mayor numero divisible por\", divisor, \"comprendido entre\", inicio, \"y\", fin, \"es:\", numero_mayor)"
   ]
  }
 ],
 "metadata": {
  "kernelspec": {
   "display_name": "hackio",
   "language": "python",
   "name": "python3"
  },
  "language_info": {
   "codemirror_mode": {
    "name": "ipython",
    "version": 3
   },
   "file_extension": ".py",
   "mimetype": "text/x-python",
   "name": "python",
   "nbconvert_exporter": "python",
   "pygments_lexer": "ipython3",
   "version": "3.12.4"
  }
 },
 "nbformat": 4,
 "nbformat_minor": 2
}
