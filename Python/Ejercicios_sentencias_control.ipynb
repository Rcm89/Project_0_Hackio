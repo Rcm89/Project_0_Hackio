{
 "cells": [
  {
   "cell_type": "markdown",
   "metadata": {},
   "source": [
    "<div style=\"text-align: center;\">\n",
    "  <img src=\"https://github.com/Hack-io-Data/Imagenes/blob/main/01-LogosHackio/logo_celeste@4x.png?raw=true\" alt=\"logo hack(io)\" />\n",
    "</div>"
   ]
  },
  {
   "cell_type": "markdown",
   "metadata": {},
   "source": [
    "#### 1. Escribe un programa que determine si un número es par o impar.\n",
    "\n"
   ]
  },
  {
   "cell_type": "code",
   "execution_count": 33,
   "metadata": {},
   "outputs": [
    {
     "name": "stdout",
     "output_type": "stream",
     "text": [
      "No ha introducido un numero entero.\n"
     ]
    }
   ],
   "source": [
    "try:\n",
    "    n = int(input(\"Introduzca un número:\"))\n",
    "    if n % 2 == 0:\n",
    "        print(n, \"es par\")\n",
    "    else:\n",
    "        print(n, \"es impar\")\n",
    "except ValueError:\n",
    "    print(\"No ha introducido un numero entero.\")\n",
    "\n"
   ]
  },
  {
   "cell_type": "markdown",
   "metadata": {},
   "source": [
    "#### 2. Genera un programa que nos diga si es de noche, de día o tarde según la hora proporcionada por el usuario."
   ]
  },
  {
   "cell_type": "code",
   "execution_count": 10,
   "metadata": {},
   "outputs": [
    {
     "name": "stdout",
     "output_type": "stream",
     "text": [
      "Es por la tarde.\n"
     ]
    }
   ],
   "source": [
    "try:\n",
    "    h = int(input(\"Introduce una hora entre 0 y 23:\"))\n",
    "    if h < 0 or h > 23:\n",
    "        print(\"La hora introducida no es válida. Debe estar entre 0 y 23.\")\n",
    "    else:\n",
    "        if 6 <= h < 12:\n",
    "            print(\"Es de día.\")\n",
    "        elif 12 <= h < 18:\n",
    "            print(\"Es por la tarde.\")\n",
    "        else:\n",
    "            print(\"Es de noche.\")\n",
    "except ValueError:\n",
    "    print(\"Por favor, introduce un número entero entre 0 y 23\")\n",
    "\n",
    "\n"
   ]
  },
  {
   "cell_type": "markdown",
   "metadata": {},
   "source": [
    "#### 3. Dado un nombre imprime un saludo personalizado."
   ]
  },
  {
   "cell_type": "code",
   "execution_count": 12,
   "metadata": {},
   "outputs": [
    {
     "name": "stdout",
     "output_type": "stream",
     "text": [
      "Por favor, introduzca un nombre válido\n"
     ]
    }
   ],
   "source": [
    "nombre = input(\"Introduce tu nombre, por favor:\")\n",
    "if nombre.isalpha():\n",
    "    print(\"Hola\", nombre, \"mucho gusto, es un placer saludarte\")\n",
    "else:\n",
    "    print(\"Por favor, introduzca un nombre válido\")"
   ]
  },
  {
   "cell_type": "markdown",
   "metadata": {},
   "source": [
    "#### 4. Escribe un programa que determine qué calificación en texto tiene un alumno en base a su calificación numérica. Las reglas de calificación son: \n",
    "\n",
    "- 0 - 69 insuficiente\n",
    "\n",
    "- 70 - 79 bien\n",
    "\n",
    "- 80 - 89 muy bien\n",
    "\n",
    "- 90 - 100 excelente\n"
   ]
  },
  {
   "cell_type": "code",
   "execution_count": 24,
   "metadata": {},
   "outputs": [
    {
     "name": "stdout",
     "output_type": "stream",
     "text": [
      "La calificación del alumno es: insuficiente.\n"
     ]
    }
   ],
   "source": [
    "try:\n",
    "    calificacion = int(input(\"Introduzca la calificación del alumno (un número entero entre 0 y 100):\"))\n",
    "    if calificacion <0 or calificacion >100:\n",
    "        print(\"La calificación introducida no es válida. Debe estar entre 0 y 100.\")\n",
    "    else:\n",
    "        if 0 <= calificacion <= 69:\n",
    "            print(\"La calificación del alumno es: insuficiente.\")\n",
    "        elif 70 <= calificacion < 79:\n",
    "            print(\"La calificación del alumno es: bien.\")\n",
    "        elif 80 <= calificacion < 89:\n",
    "            print(\"La calificación del alumno es: muy bien.\")\n",
    "        else:\n",
    "            print(\"La calificación del alumno es: excelente.\")\n",
    "except ValueError:\n",
    "    print(\"Por favor, introduzca un número entero entre 0 y 100\")\n",
    "\n"
   ]
  },
  {
   "cell_type": "markdown",
   "metadata": {},
   "source": [
    "#### 5. Escribe un programa que imprima el día de la semana, dado un número del 1 al 7.\n"
   ]
  },
  {
   "cell_type": "code",
   "execution_count": 25,
   "metadata": {},
   "outputs": [
    {
     "name": "stdout",
     "output_type": "stream",
     "text": [
      "Domingo\n"
     ]
    }
   ],
   "source": [
    "try:\n",
    "    dia_semana = int(input(\"Introduzca un número entero del 1 al 7:\"))\n",
    "    if dia_semana <0 or dia_semana >7:\n",
    "        print(\"El número introducido no es válido. Debe estar entre 0 y 7.\")\n",
    "    else:\n",
    "        if dia_semana == 1:\n",
    "            print(\"Lunes\")\n",
    "        elif dia_semana == 2:\n",
    "            print(\"Martes\")\n",
    "        elif dia_semana == 3:\n",
    "            print(\"Miércoles.\")\n",
    "        elif dia_semana == 4:\n",
    "            print(\"Jueves\")\n",
    "        elif dia_semana == 5:\n",
    "            print(\"Viernes\")\n",
    "        elif dia_semana == 6:\n",
    "            print(\"Sábado\")\n",
    "        else:\n",
    "            print(\"Domingo\")\n",
    "except ValueError:\n",
    "    print(\"Por favor, introduzca un número entero entre 0 y 7\")"
   ]
  },
  {
   "cell_type": "markdown",
   "metadata": {},
   "source": [
    "#### 6. Escribe un programa que determine si un número es positivo, negativo o cero."
   ]
  },
  {
   "cell_type": "code",
   "execution_count": 27,
   "metadata": {},
   "outputs": [
    {
     "name": "stdout",
     "output_type": "stream",
     "text": [
      "-3.2 es negativo\n"
     ]
    }
   ],
   "source": [
    "try:\n",
    "    numero = float(input(\"Introduzca un número:\"))\n",
    "    if numero > 0:\n",
    "        print(numero, \"es positivo\")\n",
    "    elif numero == 0:\n",
    "        print(numero, \"es cero\")\n",
    "    else:\n",
    "        print(numero, \"es negativo\")\n",
    "except ValueError:\n",
    "    print(\"No ha introducido un número décimal.\")\n"
   ]
  },
  {
   "cell_type": "markdown",
   "metadata": {},
   "source": [
    "#### 7. Escribe un programa que determine si una persona puede conducir o no. La edad mínima para conducir es 18 años. \n"
   ]
  },
  {
   "cell_type": "code",
   "execution_count": 29,
   "metadata": {},
   "outputs": [
    {
     "name": "stdout",
     "output_type": "stream",
     "text": [
      "La persona puede conducir\n"
     ]
    }
   ],
   "source": [
    "try:\n",
    "    edad = int(input(\"Introduzca la edad de la persona (un entero positivo):\"))\n",
    "    if edad < 0:\n",
    "        print(\"La edad debe ser un número positivo\")\n",
    "    else:\n",
    "        if edad < 18:\n",
    "            print(\"La persona no puede conducir\")\n",
    "        else:\n",
    "            print(\"La persona puede conducir\")\n",
    "except ValueError:\n",
    "    print(\"No ha introducido una edad valida (un número entero positivo).\")\n"
   ]
  },
  {
   "cell_type": "markdown",
   "metadata": {},
   "source": [
    "#### 8. Escribe un programa que determine si un estudiante aprobó o suspendió un examen."
   ]
  },
  {
   "cell_type": "code",
   "execution_count": 36,
   "metadata": {},
   "outputs": [
    {
     "name": "stdout",
     "output_type": "stream",
     "text": [
      "El alumno aprobó el exámen \n"
     ]
    }
   ],
   "source": [
    "try:\n",
    "    nota = float(input(\"Introduzca la nota del examen (un real positivo o cero):\"))\n",
    "    if nota < 0 or nota > 10:\n",
    "        print(\"Introduzca una nota valida (mayor o igual que cero)\")\n",
    "    else:\n",
    "        if nota < 5:\n",
    "            print(\"El alumno suspendió el examen\")\n",
    "        else:\n",
    "            print(\"El alumno aprobó el exámen \")\n",
    "except ValueError:\n",
    "    print(\"No ha introducido una nota válida (un número real mayor o igual que cero.\")"
   ]
  },
  {
   "cell_type": "markdown",
   "metadata": {},
   "source": [
    "#### 9. Escribe un programa que determine si un número es múltiplo de 3 y 5.\n"
   ]
  },
  {
   "cell_type": "code",
   "execution_count": 39,
   "metadata": {},
   "outputs": [
    {
     "name": "stdout",
     "output_type": "stream",
     "text": [
      "-5 es multiplo de 5 pero no de 3\n"
     ]
    }
   ],
   "source": [
    "try:\n",
    "    n = int(input(\"Introduzca un número:\"))\n",
    "    if n % 3 == 0 and n % 5 == 0:\n",
    "        print(n, \"es multiplo de 3 y 5\")\n",
    "    elif n % 3 == 0 and n % 5 != 0:\n",
    "        print(n, \"es multiplo de 3 pero no de 5\")\n",
    "    elif n % 3 != 0 and n % 5 == 0:\n",
    "        print(n, \"es multiplo de 5 pero no de 3\")\n",
    "    else:\n",
    "        print(n, \"no es multiplo de 3 ni de 5\")\n",
    "except ValueError:\n",
    "    print(\"No ha introducido un numero entero\")"
   ]
  },
  {
   "cell_type": "markdown",
   "metadata": {},
   "source": [
    "#### 10. Escribe un programa que determine si un número es par o impar.\n"
   ]
  },
  {
   "cell_type": "code",
   "execution_count": null,
   "metadata": {},
   "outputs": [],
   "source": [
    "try:\n",
    "    n = int(input(\"Introduzca un número:\"))\n",
    "    if n % 2 == 0:\n",
    "        print(n, \"es par\")\n",
    "    else:\n",
    "        print(n, \"es impar\")\n",
    "except ValueError:\n",
    "    print(\"No ha introducido un numero entero.\")"
   ]
  }
 ],
 "metadata": {
  "kernelspec": {
   "display_name": "hackio",
   "language": "python",
   "name": "python3"
  },
  "language_info": {
   "codemirror_mode": {
    "name": "ipython",
    "version": 3
   },
   "file_extension": ".py",
   "mimetype": "text/x-python",
   "name": "python",
   "nbconvert_exporter": "python",
   "pygments_lexer": "ipython3",
   "version": "3.12.4"
  }
 },
 "nbformat": 4,
 "nbformat_minor": 2
}
